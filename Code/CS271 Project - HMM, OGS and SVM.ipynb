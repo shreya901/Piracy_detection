{
 "cells": [
  {
   "cell_type": "code",
   "execution_count": 20,
   "metadata": {},
   "outputs": [],
   "source": [
    "import pandas as pd\n",
    "import numpy as np\n",
    "import collections"
   ]
  },
  {
   "cell_type": "code",
   "execution_count": 21,
   "metadata": {},
   "outputs": [],
   "source": [
    "opcode=pd.read_csv('opcode.csv')"
   ]
  },
  {
   "cell_type": "code",
   "execution_count": 22,
   "metadata": {},
   "outputs": [],
   "source": [
    "opcode['Opcode']=opcode['Opcode'].str.strip()"
   ]
  },
  {
   "cell_type": "code",
   "execution_count": 23,
   "metadata": {},
   "outputs": [],
   "source": [
    "series = pd.Series(opcode['Opcode'], index=opcode.index)"
   ]
  },
  {
   "cell_type": "code",
   "execution_count": 24,
   "metadata": {},
   "outputs": [
    {
     "name": "stdout",
     "output_type": "stream",
     "text": [
      "['mov', 'call', 'pop', 'push', 'lea', 'test', 'je', 'jmp', 'xor', 'add', 'cmp', 'ret', 'jne', 'movsd', 'sub', 'movaps', 'movss', 'movapd', 'xorps', 'movsxd', 'inc', 'movzx', 'movq', 'js', 'xorpd', 'jb', 'addsd', 'movdqa', 'or', 'other']\n"
     ]
    }
   ],
   "source": [
    "data_list=series.tolist()\n",
    "\n",
    "Counter = collections.Counter(data_list)\n",
    "top_29_opcodes=Counter.most_common(29)\n",
    "#print(top_29_opcodes)\n",
    "top_30=[]\n",
    "opcode_dict={}\n",
    "for o in top_29_opcodes:\n",
    "    top_30.append(o[0])\n",
    "    \n",
    "\n",
    "top_30.append('other')\n",
    "print(top_30)\n",
    "for i in range(len(top_30)):\n",
    "    opcode_dict[top_30[i]]=i\n",
    "opcode_dict['other']=29"
   ]
  },
  {
   "cell_type": "code",
   "execution_count": 25,
   "metadata": {},
   "outputs": [],
   "source": [
    "opcode_data=[]\n",
    "\n",
    "for i in data_list:\n",
    "    #print(i)\n",
    "    if i in opcode_dict:\n",
    "        \n",
    "        opcode_data.append(i)\n",
    "    else:\n",
    "        opcode_data.append('other')\n",
    "        \n",
    "data_fin=[]\n",
    "\n",
    "for i in opcode_data:\n",
    "    \n",
    "    if i in opcode_dict:\n",
    "        data_fin.append(opcode_dict.get(i))"
   ]
  },
  {
   "cell_type": "code",
   "execution_count": 26,
   "metadata": {},
   "outputs": [],
   "source": [
    "opcode_data\n",
    "df = pd.DataFrame({'Opcode':opcode_data})\n"
   ]
  },
  {
   "cell_type": "code",
   "execution_count": 27,
   "metadata": {},
   "outputs": [
    {
     "data": {
      "text/plain": [
       "LabelEncoder()"
      ]
     },
     "execution_count": 27,
     "metadata": {},
     "output_type": "execute_result"
    }
   ],
   "source": [
    "from sklearn import preprocessing\n",
    "\n",
    "le = preprocessing.LabelEncoder()\n",
    "\n",
    "le.fit(df['Opcode'])\n"
   ]
  },
  {
   "cell_type": "code",
   "execution_count": 28,
   "metadata": {},
   "outputs": [],
   "source": [
    "opcode_nums=le.transform(df['Opcode']) \n"
   ]
  },
  {
   "cell_type": "code",
   "execution_count": 29,
   "metadata": {},
   "outputs": [],
   "source": [
    "opcode_nums\n",
    "\n",
    "findf=pd.DataFrame({'opcode_nums':opcode_nums.tolist()})\n",
    "\n",
    "\n",
    "findf\n",
    "\n",
    "\n",
    "export_csv = findf.to_csv (r'opcode_num1.csv', index = None, header=True)"
   ]
  },
  {
   "cell_type": "code",
   "execution_count": 30,
   "metadata": {},
   "outputs": [],
   "source": [
    "from hmmlearn.hmm import GaussianHMM"
   ]
  },
  {
   "cell_type": "code",
   "execution_count": 31,
   "metadata": {},
   "outputs": [
    {
     "data": {
      "text/plain": [
       "43257.19568078889"
      ]
     },
     "execution_count": 31,
     "metadata": {},
     "output_type": "execute_result"
    }
   ],
   "source": [
    "hmmmodels=[]\n",
    "\n",
    "model = GaussianHMM(n_components=3,covariance_type=\"diag\")\n",
    "X=opcode_nums.reshape(-1,1)\n",
    "model=model.fit(X)\n",
    "actual,sc=model.decode(X)\n",
    "b=np.exp(sc) \n",
    "\n",
    "actual\n"
   ]
  },
  {
   "cell_type": "code",
   "execution_count": 32,
   "metadata": {},
   "outputs": [],
   "source": [
    "# Scoring Benign sample with model\n",
    "score_hmm=[]\n",
    "\n",
    "test_opcode=pd.read_csv('opcode.csv')\n",
    "testset=test_opcode['Opcode']\n",
    "tes_set=testset.tolist()\n",
    "test_opcode_data=[]\n",
    "\n",
    "for i in tes_set:\n",
    "    #print(i)\n",
    "    if i in opcode_dict:\n",
    "        \n",
    "        test_opcode_data.append(i)\n",
    "    else:\n",
    "        test_opcode_data.append('other')\n",
    "test_df = pd.DataFrame({'Opcode':test_opcode_data})\n",
    "\n",
    "from sklearn import preprocessing\n",
    "\n",
    "\n",
    "le = preprocessing.LabelEncoder()\n",
    "\n",
    "le.fit(test_df['Opcode'])\n",
    "\n",
    "\n",
    "test_opcode_nums=le.transform(test_df['Opcode']) \n",
    "\n",
    "Y=test_opcode_nums.reshape(-1,1)\n",
    "score,pred_model=model.decode(Y)\n",
    "score_hmm.append(score)"
   ]
  },
  {
   "cell_type": "code",
   "execution_count": 33,
   "metadata": {},
   "outputs": [],
   "source": [
    "test_opcode=pd.read_csv('Datasets/dead_code_inserted_seq_dF_5.csv')\n",
    "testset=test_opcode['Opcode']\n",
    "tes_set=testset.tolist()\n",
    "test_opcode_data=[]\n",
    "\n",
    "for i in tes_set:\n",
    "    #print(i)\n",
    "    if i in opcode_dict:\n",
    "        \n",
    "        test_opcode_data.append(i)\n",
    "    else:\n",
    "        test_opcode_data.append('other')\n",
    "test_df = pd.DataFrame({'Opcode':test_opcode_data})\n",
    "\n",
    "from sklearn import preprocessing\n",
    "\n",
    "\n",
    "le = preprocessing.LabelEncoder()\n",
    "\n",
    "le.fit(test_df['Opcode'])\n",
    "\n",
    "\n",
    "test_opcode_nums=le.transform(test_df['Opcode']) \n",
    "\n",
    "Y=test_opcode_nums.reshape(-1,1)\n",
    "score,pred_model=model.decode(Y)\n",
    "score_hmm.append(score)"
   ]
  },
  {
   "cell_type": "code",
   "execution_count": 34,
   "metadata": {},
   "outputs": [],
   "source": [
    "#Scoring morphed samples with model\n",
    "\n",
    "\n",
    "\n",
    "for i in range(1,10):\n",
    "\n",
    "    test_opcode=pd.read_csv('Datasets/dead_code_inserted_seq_dF_{}0.csv'.format(i))\n",
    "    testset=test_opcode['Opcode']\n",
    "    tes_set=testset.tolist()\n",
    "    test_opcode_data=[]\n",
    "\n",
    "    for i in tes_set:\n",
    "    #print(i)\n",
    "        if i in opcode_dict:\n",
    "        \n",
    "            test_opcode_data.append(i)\n",
    "        else:\n",
    "            test_opcode_data.append('other')\n",
    "    test_df = pd.DataFrame({'Opcode':test_opcode_data})\n",
    "\n",
    "    from sklearn import preprocessing\n",
    "\n",
    "\n",
    "    le = preprocessing.LabelEncoder()\n",
    "\n",
    "    le.fit(test_df['Opcode'])\n",
    "\n",
    "\n",
    "    test_opcode_nums=le.transform(test_df['Opcode']) \n",
    "\n",
    "    Y=test_opcode_nums.reshape(-1,1)\n",
    "    score,pred_model=model.decode(Y)\n",
    "    score_hmm.append(score)\n"
   ]
  },
  {
   "cell_type": "code",
   "execution_count": 35,
   "metadata": {},
   "outputs": [
    {
     "data": {
      "text/plain": [
       "[43257.19568078889,\n",
       " 40709.56878110585,\n",
       " 38862.73247794559,\n",
       " 33972.172950399116,\n",
       " 29546.88917825156,\n",
       " 25253.699851522444,\n",
       " 20815.81537789642,\n",
       " 16359.989767707708,\n",
       " 11809.452258200236,\n",
       " 7319.46019554853,\n",
       " 2556.7564989656257]"
      ]
     },
     "execution_count": 35,
     "metadata": {},
     "output_type": "execute_result"
    }
   ],
   "source": [
    "score_hmm"
   ]
  },
  {
   "cell_type": "code",
   "execution_count": 37,
   "metadata": {
    "scrolled": true
   },
   "outputs": [
    {
     "data": {
      "image/png": "[encoded data removed]",
      "text/plain": [
       "<Figure size 432x288 with 1 Axes>"
      ]
     },
     "metadata": {},
     "output_type": "display_data"
    }
   ],
   "source": [
    "score_hmm\n",
    "import matplotlib.pyplot as plt\n",
    "y=[0, 5,10, 20, 30, 40, 50, 60, 70, 80, 90]\n",
    "\n",
    "plt.plot( y,score_hmm) \n",
    "plt.xlabel(\"Morphed Percentage\")\n",
    "plt.ylabel(\"HMM Score\")\n",
    "plt.title(\"HMM SCORE/Morphed Percentage - Before Normalization\")\n",
    "plt.show()"
   ]
  },
  {
   "cell_type": "code",
   "execution_count": 38,
   "metadata": {},
   "outputs": [
    {
     "data": {
      "text/plain": [
       "array([[1.        , 0.94110513, 0.89841082, 0.78535311, 0.68305143,\n",
       "        0.58380344, 0.48121047, 0.37820274, 0.2730055 , 0.16920792,\n",
       "        0.05910592]])"
      ]
     },
     "execution_count": 38,
     "metadata": {},
     "output_type": "execute_result"
    }
   ],
   "source": [
    "score_hmm\n",
    "\n",
    "from sklearn.preprocessing import normalize\n",
    "score_fin=normalize(np.asarray(score_hmm).reshape(1, -1), norm=\"max\")\n",
    "\n",
    "score_fin"
   ]
  },
  {
   "cell_type": "code",
   "execution_count": 39,
   "metadata": {},
   "outputs": [
    {
     "data": {
      "text/plain": [
       "[1.0,\n",
       " 0.941105130381476,\n",
       " 0.898410816196415,\n",
       " 0.7853531052057223,\n",
       " 0.6830514256238237,\n",
       " 0.5838034448159559,\n",
       " 0.4812104679994548,\n",
       " 0.37820273622067924,\n",
       " 0.27300549821460046,\n",
       " 0.16920792206599747,\n",
       " 0.059105923505372214]"
      ]
     },
     "execution_count": 39,
     "metadata": {},
     "output_type": "execute_result"
    }
   ],
   "source": [
    "x=score_fin.tolist()[0]\n",
    "x"
   ]
  },
  {
   "cell_type": "code",
   "execution_count": 40,
   "metadata": {},
   "outputs": [
    {
     "data": {
      "text/plain": [
       "[0, 5, 10, 20, 30, 40, 50, 60, 70, 80, 90]"
      ]
     },
     "execution_count": 40,
     "metadata": {},
     "output_type": "execute_result"
    }
   ],
   "source": [
    "y=[0, 5, 10, 20, 30, 40, 50, 60, 70, 80, 90]\n",
    "y"
   ]
  },
  {
   "cell_type": "code",
   "execution_count": 41,
   "metadata": {},
   "outputs": [],
   "source": [
    "import matplotlib.pyplot as plt"
   ]
  },
  {
   "cell_type": "code",
   "execution_count": 42,
   "metadata": {},
   "outputs": [
    {
     "data": {
      "image/png": "[encoded data removed]",
      "text/plain": [
       "<Figure size 432x288 with 1 Axes>"
      ]
     },
     "metadata": {},
     "output_type": "display_data"
    }
   ],
   "source": [
    "plt.plot( y,x) \n",
    "plt.xlabel(\"Morphed Percentage\")\n",
    "plt.ylabel(\"HMM Score\")\n",
    "plt.title(\"HMM SCORE/Morphed Percentage After Normalization\")\n",
    "plt.show()"
   ]
  },
  {
   "cell_type": "code",
   "execution_count": 43,
   "metadata": {},
   "outputs": [],
   "source": [
    "# With conditional jumps HMM\n",
    "hmmjmp=[]\n",
    "\n",
    "for i in range(2,12):\n",
    "\n",
    "    test_opcode=pd.read_csv('Datasets/Morphed_{}.csv'.format(i))\n",
    "    testset=test_opcode['0']\n",
    "    tes_set=testset.tolist()\n",
    "    test_opcode_data=[]\n",
    "\n",
    "    for i in tes_set:\n",
    "    #print(i)\n",
    "        if i in opcode_dict:\n",
    "        \n",
    "            test_opcode_data.append(i)\n",
    "        else:\n",
    "            test_opcode_data.append('other')\n",
    "    test_df = pd.DataFrame({'Opcode':test_opcode_data})\n",
    "\n",
    "    from sklearn import preprocessing\n",
    "\n",
    "\n",
    "    le = preprocessing.LabelEncoder()\n",
    "\n",
    "    le.fit(test_df['Opcode'])\n",
    "\n",
    "\n",
    "    test_opcode_nums=le.transform(test_df['Opcode']) \n",
    "\n",
    "    Y=test_opcode_nums.reshape(-1,1)\n",
    "    score,pred_model=model.decode(Y)\n",
    "    hmmjmp.append(score)"
   ]
  },
  {
   "cell_type": "code",
   "execution_count": 44,
   "metadata": {},
   "outputs": [
    {
     "data": {
      "text/plain": [
       "[43231.152184345076,\n",
       " 43224.41974201709,\n",
       " 43224.46264800483,\n",
       " 43243.99696239727,\n",
       " 43203.11672971216,\n",
       " 43207.22641344181,\n",
       " 43220.35910766336,\n",
       " 43211.52668973869,\n",
       " 43218.25840459941,\n",
       " 43209.91610934461]"
      ]
     },
     "execution_count": 44,
     "metadata": {},
     "output_type": "execute_result"
    }
   ],
   "source": [
    "hmmjmp"
   ]
  },
  {
   "cell_type": "code",
   "execution_count": 47,
   "metadata": {},
   "outputs": [
    {
     "data": {
      "text/plain": [
       "[2, 3, 4, 5, 6, 7, 8, 9, 10, 11]"
      ]
     },
     "execution_count": 47,
     "metadata": {},
     "output_type": "execute_result"
    }
   ],
   "source": [
    "y=[i for i in range(2,12)]\n",
    "y"
   ]
  },
  {
   "cell_type": "code",
   "execution_count": 50,
   "metadata": {},
   "outputs": [
    {
     "data": {
      "image/png": "[encoded data removed]",
      "text/plain": [
       "<Figure size 432x288 with 1 Axes>"
      ]
     },
     "metadata": {},
     "output_type": "display_data"
    }
   ],
   "source": [
    "plt.plot( y,hmmjmp) \n",
    "plt.xlabel(\"No. of Jumps\")\n",
    "plt.ylabel(\"HMM Score\")\n",
    "plt.title(\"HMM Score/No. of Jumps - Before Normalization\")\n",
    "plt.show()"
   ]
  },
  {
   "cell_type": "code",
   "execution_count": 51,
   "metadata": {},
   "outputs": [
    {
     "data": {
      "text/plain": [
       "[0.9997029696847087,\n",
       " 0.9995472846694258,\n",
       " 0.9995482768530988,\n",
       " 1.0,\n",
       " 0.9990546610961826,\n",
       " 0.9991496958759978,\n",
       " 0.9994533841366591,\n",
       " 0.9992491380321108,\n",
       " 0.9994048062250064,\n",
       " 0.9992118940096518]"
      ]
     },
     "execution_count": 51,
     "metadata": {},
     "output_type": "execute_result"
    }
   ],
   "source": [
    "from sklearn.preprocessing import normalize\n",
    "hmmjmp_after=normalize(np.asarray(hmmjmp).reshape(1, -1), norm=\"max\")\n",
    "\n",
    "hmm_af=hmmjmp_after.tolist()[0]\n",
    "hmm_af"
   ]
  },
  {
   "cell_type": "code",
   "execution_count": 52,
   "metadata": {},
   "outputs": [
    {
     "data": {
      "image/png": "[encoded data removed]",
      "text/plain": [
       "<Figure size 432x288 with 1 Axes>"
      ]
     },
     "metadata": {},
     "output_type": "display_data"
    }
   ],
   "source": [
    "plt.plot( y,hmmjmp_after.tolist()[0]) \n",
    "plt.xlabel(\"No. of Jumps\")\n",
    "plt.ylabel(\"HMM Score\")\n",
    "plt.title(\"HMM SCcore/No. of Jumps - After Normalization\")\n",
    "plt.show()"
   ]
  },
  {
   "cell_type": "code",
   "execution_count": 56,
   "metadata": {},
   "outputs": [
    {
     "data": {
      "text/plain": [
       "[0.9997029696847087,\n",
       " 0.9995472846694258,\n",
       " 0.9995482768530988,\n",
       " 1.0,\n",
       " 0.9990546610961826,\n",
       " 0.9991496958759978,\n",
       " 0.9994533841366591,\n",
       " 0.9992491380321108,\n",
       " 0.9994048062250064,\n",
       " 0.9992118940096518,\n",
       " 1.0,\n",
       " 0.941105130381476,\n",
       " 0.898410816196415,\n",
       " 0.7853531052057223,\n",
       " 0.6830514256238237,\n",
       " 0.5838034448159559,\n",
       " 0.4812104679994548,\n",
       " 0.37820273622067924,\n",
       " 0.27300549821460046,\n",
       " 0.16920792206599747,\n",
       " 0.059105923505372214]"
      ]
     },
     "execution_count": 56,
     "metadata": {},
     "output_type": "execute_result"
    }
   ],
   "source": [
    "# SVM Scores\n",
    "\n",
    "hmm_fin=[]\n",
    "\n",
    "hmm_fin= hmm_af+x\n",
    "hmm_fin"
   ]
  },
  {
   "cell_type": "code",
   "execution_count": 93,
   "metadata": {},
   "outputs": [
    {
     "data": {
      "text/plain": [
       "array([1, 1, 1, 1, 1, 1, 1, 1, 1, 1, 1, 0, 0, 0, 0, 0, 0, 0, 0, 0, 0])"
      ]
     },
     "execution_count": 93,
     "metadata": {},
     "output_type": "execute_result"
    }
   ],
   "source": [
    "SVM_Y=[1,1,1,1,1,1,1,1,1,1,1,0,0,0,0,0,0,0,0,0,0]\n",
    "SVM_Y= np.array(SVM_Y)\n",
    "SVM_Y"
   ]
  },
  {
   "cell_type": "code",
   "execution_count": 61,
   "metadata": {},
   "outputs": [
    {
     "name": "stdout",
     "output_type": "stream",
     "text": [
      "10\n",
      "20\n",
      "30\n",
      "40\n",
      "50\n",
      "60\n",
      "70\n",
      "80\n",
      "90\n"
     ]
    },
    {
     "data": {
      "image/png": "[encoded data removed]",
      "text/plain": [
       "<Figure size 432x288 with 1 Axes>"
      ]
     },
     "metadata": {},
     "output_type": "display_data"
    }
   ],
   "source": [
    "import numpy\n",
    "\n",
    "def get_ogs_matrix(data,opcode_dict,top_29):\n",
    "    ogs_matrix=[[0 for i in range(30)] for j in range(30)]\n",
    "\n",
    "    for i in range(len(data)-1):\n",
    "        opcode1=data[i]\n",
    "        opcode2=data[i+1]\n",
    "        if opcode1 in top_29:\n",
    "            row_index=opcode_dict[opcode1]\n",
    "        else:\n",
    "            row_index=opcode_dict['other']\n",
    "        if opcode2 in top_29:\n",
    "            col_index=opcode_dict[opcode2]\n",
    "        else:\n",
    "            col_index=opcode_dict['other']\n",
    "        ogs_matrix[row_index][col_index]+=1\n",
    "    ogs_numpy=numpy.asarray(ogs_matrix)\n",
    "    #print(ogs_numpy)\n",
    "    row_sums = ogs_numpy.sum(axis=1)\n",
    "    #print(row_sums)\n",
    "    \n",
    "    ogs_matrix_normalized = ogs_numpy / row_sums[:, numpy.newaxis]\n",
    "    return ogs_matrix_normalized\n",
    "\n",
    "\n",
    "import numpy as np\n",
    "def get_ogs_score(mat1,mat2):\n",
    "    x=np.subtract(mat1,mat2)\n",
    "    p=np.square(x)\n",
    "    \n",
    "    return np.nansum(p)/(30)**2\n",
    "\n",
    "\n",
    "\n",
    "import pandas as pd\n",
    "opcode1=pd.read_csv('opcode.csv')\n",
    "opcode1['Opcode']=opcode1['Opcode'].str.strip()\n",
    "series1 = pd.Series(opcode1['Opcode'], index=opcode1.index)\n",
    "data_final1=series1.tolist()\n",
    "import collections\n",
    "Counter = collections.Counter(data_final1)\n",
    "top_29_opcodes=Counter.most_common(29)\n",
    "top_29=[]\n",
    "opcode_dict={}\n",
    "for o in top_29_opcodes:\n",
    "    top_29.append(o[0])\n",
    "for i in range(len(top_29)):\n",
    "    opcode_dict[top_29[i]]=i\n",
    "opcode_dict['other']=29\n",
    "\n",
    "\n",
    "\n",
    "o=get_ogs_matrix(data_final1,opcode_dict,top_29)\n",
    "ogs_score_list=[]\n",
    "\n",
    "dead_code=pd.read_csv('Datasets/dead_code_inserted_seq_dF_5.csv')\n",
    "dead_code_series = pd.Series(dead_code['Opcode'], index=dead_code.index)\n",
    "    \n",
    "dead_code_final=dead_code_series.tolist()\n",
    "d=get_ogs_matrix(dead_code_final,opcode_dict,top_29)\n",
    "ogs_score_list.append(get_ogs_score(o,d))\n",
    "for i in range(10,100,10):\n",
    "    dead_code=pd.read_csv('Datasets/dead_code_inserted_seq_dF_{}.csv'.format(i))\n",
    "    dead_code_series = pd.Series(dead_code['Opcode'], index=dead_code.index)\n",
    "    \n",
    "    dead_code_final=dead_code_series.tolist()\n",
    "    d=get_ogs_matrix(dead_code_final,opcode_dict,top_29)\n",
    "    o=get_ogs_matrix(data_final1,opcode_dict,top_29)\n",
    "    print(i)\n",
    "    ogs_score_list.append(get_ogs_score(o,d))\n",
    "\n",
    "\n",
    "y=ogs_score_list\n",
    "x=[5,10,20,30,40,50,60,70,80,90]\n",
    "import matplotlib.pyplot as plt\n",
    "\n",
    "plt.plot(x,y)\n",
    "plt.ylabel(\"OGS Score\")\n",
    "plt.xlabel(\"Morph Percentage\")\n",
    "plt.title(\"OGS_SCORE/Morph Percentage\")\n",
    "plt.show()"
   ]
  },
  {
   "cell_type": "code",
   "execution_count": 62,
   "metadata": {},
   "outputs": [
    {
     "name": "stdout",
     "output_type": "stream",
     "text": [
      "2\n",
      "3\n",
      "4\n",
      "5\n",
      "6\n",
      "7\n",
      "8\n",
      "9\n",
      "10\n",
      "11\n"
     ]
    },
    {
     "data": {
      "image/png": "[encoded data removed]",
      "text/plain": [
       "<Figure size 432x288 with 1 Axes>"
      ]
     },
     "metadata": {},
     "output_type": "display_data"
    }
   ],
   "source": [
    "ogs_score_list_MORPHED=[]\n",
    "\n",
    "for i in range(2,12):\n",
    "    morphed_code=pd.read_csv('Datasets/Morphed_{}.csv'.format(i))\n",
    "    morphed_code_series = pd.Series(morphed_code['0'], index=morphed_code.index)\n",
    "    \n",
    "    morphed_code_final=morphed_code_series.tolist()\n",
    "    m=get_ogs_matrix(morphed_code_final,opcode_dict,top_29)\n",
    "    o=get_ogs_matrix(data_final1,opcode_dict,top_29)\n",
    "    print(i)\n",
    "    ogs_score_list_MORPHED.append(get_ogs_score(o,m))\n",
    "\n",
    "import matplotlib.pyplot as plt\n",
    "\n",
    "y=ogs_score_list_MORPHED\n",
    "x=[i for i in range(2,12)]\n",
    "\n",
    "plt.plot(x,y)\n",
    "plt.ylabel(\"OGS Score\")\n",
    "plt.xlabel(\"Number of Frames\")\n",
    "plt.title(\"OGS_SCORE/Frames\")\n",
    "plt.show()\n"
   ]
  },
  {
   "cell_type": "code",
   "execution_count": 64,
   "metadata": {},
   "outputs": [
    {
     "data": {
      "text/plain": [
       "[0,\n",
       " 0.021693424799347015,\n",
       " 0.08343474478655068,\n",
       " 0.5401846806537486,\n",
       " 0.10885067250406198,\n",
       " 0.21143150351749856,\n",
       " 0.21720252374594975,\n",
       " 0.34746107475180454,\n",
       " 0.5336697124698166,\n",
       " 0.6044661133279748,\n",
       " 1.0,\n",
       " 0.023545117317278416,\n",
       " 0.056497658824664614,\n",
       " 0.1659898208817887,\n",
       " 0.29446545076457653,\n",
       " 0.4239343413926722,\n",
       " 0.5458176941374047,\n",
       " 0.6717494873461815,\n",
       " 0.7740428318323826,\n",
       " 0.889699858140429,\n",
       " 1.0]"
      ]
     },
     "execution_count": 64,
     "metadata": {},
     "output_type": "execute_result"
    }
   ],
   "source": [
    "from sklearn.preprocessing import normalize\n",
    "u=normalize(np.asarray(ogs_score_list_MORPHED).reshape(1, -1), norm=\"max\")\n",
    "\n",
    "b=[0]+u[0].tolist()\n",
    "\n",
    "\n",
    "w=normalize(np.asarray(ogs_score_list).reshape(1, -1), norm=\"max\").tolist()[0]\n",
    "\n",
    "\n",
    "# SVM Scores\n",
    "\n",
    "OGS_X=[]\n",
    "\n",
    "OGS_X= b+w\n",
    "OGS_X"
   ]
  },
  {
   "cell_type": "code",
   "execution_count": 90,
   "metadata": {},
   "outputs": [],
   "source": [
    "feature=[[0,0] for i in range(21)]\n",
    "for i in range(21):\n",
    "    feature[i][0]=hmm_fin[i]\n",
    "    feature[i][1]=OGS_X[i]\n",
    "feature=np.array(feature)"
   ]
  },
  {
   "cell_type": "code",
   "execution_count": 91,
   "metadata": {},
   "outputs": [
    {
     "data": {
      "text/plain": [
       "array([[0.99970297, 0.        ],\n",
       "       [0.99954728, 0.02169342],\n",
       "       [0.99954828, 0.08343474],\n",
       "       [1.        , 0.54018468],\n",
       "       [0.99905466, 0.10885067],\n",
       "       [0.9991497 , 0.2114315 ],\n",
       "       [0.99945338, 0.21720252],\n",
       "       [0.99924914, 0.34746107],\n",
       "       [0.99940481, 0.53366971],\n",
       "       [0.99921189, 0.60446611],\n",
       "       [1.        , 1.        ],\n",
       "       [0.94110513, 0.02354512],\n",
       "       [0.89841082, 0.05649766],\n",
       "       [0.78535311, 0.16598982],\n",
       "       [0.68305143, 0.29446545],\n",
       "       [0.58380344, 0.42393434],\n",
       "       [0.48121047, 0.54581769],\n",
       "       [0.37820274, 0.67174949],\n",
       "       [0.2730055 , 0.77404283],\n",
       "       [0.16920792, 0.88969986],\n",
       "       [0.05910592, 1.        ]])"
      ]
     },
     "execution_count": 91,
     "metadata": {},
     "output_type": "execute_result"
    }
   ],
   "source": [
    "feature"
   ]
  },
  {
   "cell_type": "code",
   "execution_count": 94,
   "metadata": {},
   "outputs": [],
   "source": [
    "from sklearn import svm"
   ]
  },
  {
   "cell_type": "code",
   "execution_count": 95,
   "metadata": {},
   "outputs": [],
   "source": [
    "from sklearn.model_selection import train_test_split\n",
    "X_train, x_test, y_train, y_test = train_test_split(feature, SVM_Y, test_size=0.2, random_state=42)"
   ]
  },
  {
   "cell_type": "code",
   "execution_count": 96,
   "metadata": {},
   "outputs": [],
   "source": [
    "svc_linear = svm.SVC(kernel='linear',gamma=0.001, C=1.0)\n",
    "svc_linear.fit(X_train, y_train)\n",
    "y_pred_lin=svc_linear.predict(x_test)"
   ]
  },
  {
   "cell_type": "code",
   "execution_count": 97,
   "metadata": {},
   "outputs": [],
   "source": [
    "svc_rbf = svm.SVC(kernel='rbf',gamma=0.001, C=1.0)\n",
    "svc_rbf.fit(X_train, y_train)\n",
    "y_pred_rbf=svc_rbf.predict(x_test)\n",
    "svc_sigmoid=svm.SVC(kernel='sigmoid',gamma=0.001, C=1.0)\n",
    "svc_sigmoid.fit(X_train, y_train)\n",
    "y_pred_sig=svc_sigmoid.predict(x_test)"
   ]
  },
  {
   "cell_type": "code",
   "execution_count": 98,
   "metadata": {},
   "outputs": [],
   "source": [
    "\n",
    "import numpy as np\n",
    "from sklearn.metrics import accuracy_score\n",
    "score1 = accuracy_score(y_test,y_pred_lin)\n",
    "score2 = accuracy_score(y_test,y_pred_rbf)\n",
    "score3 = accuracy_score(y_test,y_pred_sig)\n"
   ]
  },
  {
   "cell_type": "code",
   "execution_count": 109,
   "metadata": {},
   "outputs": [
    {
     "data": {
      "image/png": "[encoded data removed]",
      "text/plain": [
       "<Figure size 432x288 with 1 Axes>"
      ]
     },
     "metadata": {},
     "output_type": "display_data"
    }
   ],
   "source": [
    "import matplotlib.pyplot as plt\n",
    "\n",
    "colors=['red','blue']\n",
    "\n",
    "plt.scatter(hmm_fin, SVM_Y,marker='o',c=colors,label=SVM_Y)\n",
    "plt.ylabel(\"Classifier\")\n",
    "plt.xlabel(\"HMM Score\")\n",
    "plt.title(\"HMM Score/Classifier\")\n",
    "\n",
    "plt.show()\n",
    "\n",
    "\n"
   ]
  },
  {
   "cell_type": "code",
   "execution_count": 110,
   "metadata": {},
   "outputs": [
    {
     "data": {
      "image/png": "[encoded data removed]",
      "text/plain": [
       "<Figure size 432x288 with 1 Axes>"
      ]
     },
     "metadata": {},
     "output_type": "display_data"
    }
   ],
   "source": [
    "colors=['red','blue']\n",
    "\n",
    "plt.scatter(OGS_X, SVM_Y, marker='o',c=colors,label=SVM_Y)\n",
    "plt.ylabel(\"Classifier\")\n",
    "plt.xlabel(\"OGS Score\")\n",
    "plt.title(\"OGS Score/Classifier\")\n",
    "\n",
    "plt.show()"
   ]
  },
  {
   "cell_type": "code",
   "execution_count": 111,
   "metadata": {},
   "outputs": [
    {
     "data": {
      "image/png": "[encoded data removed]",
      "text/plain": [
       "<Figure size 432x288 with 1 Axes>"
      ]
     },
     "metadata": {},
     "output_type": "display_data"
    }
   ],
   "source": [
    "import matplotlib.pyplot as plt\n",
    "import matplotlib\n",
    "\n",
    "plt.ylabel(\"OGS_score\")\n",
    "plt.xlabel(\"HMM Score\")\n",
    "plt.title(\"SVM classfification Linear Kernel\")\n",
    "label=y_pred_lin\n",
    "\n",
    "colors = ['red','blue']\n",
    "plt.scatter(list(x_test[:,0]), list(x_test[:,1]), c=label, cmap=matplotlib.colors.ListedColormap(colors))\n",
    "plt.show()\n",
    "\n"
   ]
  },
  {
   "cell_type": "code",
   "execution_count": 112,
   "metadata": {},
   "outputs": [
    {
     "data": {
      "image/png": "[encoded data removed]",
      "text/plain": [
       "<Figure size 432x288 with 1 Axes>"
      ]
     },
     "metadata": {},
     "output_type": "display_data"
    }
   ],
   "source": [
    "plt.ylabel(\"OGS_score\")\n",
    "plt.xlabel(\"HMM Score\")\n",
    "plt.title(\"SVM classfification RBF Kernel\")\n",
    "\n",
    "label=y_pred_rbf\n",
    "\n",
    "colors = ['red','blue']\n",
    "plt.scatter(list(x_test[:,0]), list(x_test[:,1]), c=label, cmap=matplotlib.colors.ListedColormap(colors))\n",
    "\n",
    "\n",
    "plt.show()"
   ]
  },
  {
   "cell_type": "code",
   "execution_count": 113,
   "metadata": {},
   "outputs": [
    {
     "data": {
      "text/plain": [
       "<matplotlib.collections.PathCollection at 0x1a23f3bba8>"
      ]
     },
     "execution_count": 113,
     "metadata": {},
     "output_type": "execute_result"
    },
    {
     "data": {
      "image/png": "[encoded data removed]",
      "text/plain": [
       "<Figure size 432x288 with 1 Axes>"
      ]
     },
     "metadata": {},
     "output_type": "display_data"
    }
   ],
   "source": [
    "\n",
    "plt.ylabel(\"OGS_score\")\n",
    "plt.xlabel(\"HMM Score\")\n",
    "plt.title(\"SVM classfification Sigmoid Kernel \")\n",
    "label=y_pred_sig\n",
    "\n",
    "colors = ['red','blue']\n",
    "plt.scatter(list(x_test[:,0]), list(x_test[:,1]), c=label, cmap=matplotlib.colors.ListedColormap(colors))\n",
    "\n"
   ]
  },
  {
   "cell_type": "code",
   "execution_count": null,
   "metadata": {},
   "outputs": [],
   "source": []
  }
 ],
 "metadata": {
  "kernelspec": {
   "display_name": "Python 3",
   "language": "python",
   "name": "python3"
  },
  "language_info": {
   "codemirror_mode": {
    "name": "ipython",
    "version": 3
   },
   "file_extension": ".py",
   "mimetype": "text/x-python",
   "name": "python",
   "nbconvert_exporter": "python",
   "pygments_lexer": "ipython3",
   "version": "3.6.5"
  }
 },
 "nbformat": 4,
 "nbformat_minor": 2
}
